{
 "cells": [
  {
   "cell_type": "markdown",
   "metadata": {},
   "source": [
    "Setup:\n",
    "\n",
    "1. Install Ollama from [here](https://ollama.com/download)\n",
    "2. Run command to download model weights:\n",
    "    ```sh\n",
    "    ollama pull gemma3:1b\n",
    "    ```\n",
    "3. Run command to host ollama model:\n",
    "    ```sh\n",
    "    ollama serve\n",
    "    ```"
   ]
  },
  {
   "cell_type": "code",
   "execution_count": 13,
   "metadata": {},
   "outputs": [],
   "source": [
    "from smolagents import LiteLLMModel"
   ]
  },
  {
   "cell_type": "code",
   "execution_count": 2,
   "metadata": {},
   "outputs": [],
   "source": [
    "model = LiteLLMModel(model_id=\"ollama_chat/gemma3:1b\", api_base=\"http://127.0.0.1:11434\",num_ctx=8192)"
   ]
  },
  {
   "cell_type": "code",
   "execution_count": 6,
   "metadata": {},
   "outputs": [],
   "source": [
    "messages = [\n",
    "  {\"role\": \"user\", \"content\": [{\"type\": \"text\", \"text\": \"Explain quantum mechanics in simple terms.\"}]}\n",
    "]"
   ]
  },
  {
   "cell_type": "code",
   "execution_count": 7,
   "metadata": {},
   "outputs": [],
   "source": [
    "response = model(messages)"
   ]
  },
  {
   "cell_type": "code",
   "execution_count": 10,
   "metadata": {},
   "outputs": [],
   "source": [
    "from IPython.display import Markdown"
   ]
  },
  {
   "cell_type": "code",
   "execution_count": 11,
   "metadata": {},
   "outputs": [
    {
     "data": {
      "text/markdown": [
       "Okay, let’s tackle quantum mechanics. It’s notoriously weird, but we can break it down into manageable parts. Here’s a simplified explanation, aiming for a general audience:\n",
       "\n",
       "**1. The Basic Idea: Things aren’t always where we think they are.**\n",
       "\n",
       "Classical physics (like the physics we learn in school) describes the world as things having definite positions and speeds.  Think of a ball – you know exactly where it is and how fast it's going at any given moment. Quantum mechanics says this isn’t *quite* true at the tiny, incredibly small level of atoms and smaller particles.  Particles can be in *multiple places at once* until we look at them.\n",
       "\n",
       "**2. Key Concepts – Let’s get to the \"weird\" parts:**\n",
       "\n",
       "* **Quantization:**  Energy, for example, doesn't come in continuous amounts like water flowing. It comes in discrete packets called “quanta.”  Think of it like stairs – you can only stand on specific steps, not in between.\n",
       "* **Wave-Particle Duality:** This is a big one.  Tiny particles like electrons and photons (light) can sometimes act like waves, and sometimes like particles. It’s like they have both properties – a wave *and* a point. It's not *either/or*, it’s *both at the same time* to a certain degree.\n",
       "* **Superposition:** Imagine a coin spinning in the air. Before it lands, it’s both heads and tails.  A quantum particle can be in multiple states (like multiple positions) *simultaneously* until we measure it. It’s only when we observe it that it \"chooses\" a specific state.\n",
       "* **Entanglement:** This is arguably the most mind-bending concept.  Two particles can become linked in a way that their fates are intertwined, *no matter how far apart they are*.  If you measure a property of one particle, you instantly know the corresponding property of the other, even if they’re light-years away! It's like flipping one coin and instantly knowing the result of the other.\n",
       "\n",
       "\n",
       "**3. Why is this important?**\n",
       "\n",
       "Quantum mechanics isn’t just some abstract theory. It’s the foundation for:\n",
       "\n",
       "* **Lasers:**  The light you see in a laser is a result of quantum mechanics.\n",
       "* **Transistors in computers:** The way computers work relies on the behavior of electrons (which are quantum mechanical) within materials.\n",
       "* **Medical imaging (MRI):**  MRI relies on quantum properties of atomic nuclei.\n",
       "* **Nuclear energy:** Understanding the behavior of atoms is crucial for nuclear power.\n",
       "\n",
       "**4. It's Counterintuitive!**\n",
       "\n",
       "It’s very difficult to wrap your head around.  It feels like the rules change when you go down to the smallest level.  But it’s a remarkably accurate description of the universe at its most fundamental level.\n",
       "\n",
       "**Analogy - The Dimmer Switch:**\n",
       "\n",
       "Imagine a dimmer switch for a light.  Classical physics says the light can be any brightness. Quantum mechanics says the light can be *any* brightness, but it's only *possible* to be a specific brightness when you actively choose to adjust it.\n",
       "\n",
       "\n",
       "**Resources for Further Exploration:**\n",
       "\n",
       "* **YouTube:** [https://www.youtube.com/watch?v=5X4s-g5y0Q8](https://www.youtube.com/watch?v=5X4s-g5y0Q8) (A good introductory video)\n",
       "* **Wikipedia - Quantum Mechanics:** [https://en.wikipedia.org/wiki/Quantum_mechanics](https://en.wikipedia.org/wiki/Quantum_mechanics)\n",
       "\n",
       "---\n",
       "\n",
       "**To help me tailor the explanation even further, could you tell me:**\n",
       "\n",
       "*   **What’s your current understanding of science?** (e.g., are you a complete beginner, or do you have some background?)\n",
       "*   **What specifically are you most interested in learning about?** (e.g., the “weirdness” part, or the applications?)"
      ],
      "text/plain": [
       "<IPython.core.display.Markdown object>"
      ]
     },
     "execution_count": 11,
     "metadata": {},
     "output_type": "execute_result"
    }
   ],
   "source": [
    "Markdown(response.content)"
   ]
  }
 ],
 "metadata": {
  "kernelspec": {
   "display_name": "textgen",
   "language": "python",
   "name": "python3"
  },
  "language_info": {
   "codemirror_mode": {
    "name": "ipython",
    "version": 3
   },
   "file_extension": ".py",
   "mimetype": "text/x-python",
   "name": "python",
   "nbconvert_exporter": "python",
   "pygments_lexer": "ipython3",
   "version": "3.10.9"
  }
 },
 "nbformat": 4,
 "nbformat_minor": 2
}

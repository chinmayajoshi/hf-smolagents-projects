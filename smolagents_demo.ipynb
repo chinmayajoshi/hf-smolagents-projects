{
 "cells": [
  {
   "cell_type": "markdown",
   "metadata": {},
   "source": [
    "Setup:\n",
    "\n",
    "1. Install Ollama from [here](https://ollama.com/download)\n",
    "2. Run command to download model weights:\n",
    "    ```sh\n",
    "    ollama pull gemma3:1b\n",
    "    ```\n",
    "3. Run command to host ollama model:\n",
    "    ```sh\n",
    "    ollama serve\n",
    "    ```"
   ]
  },
  {
   "cell_type": "code",
   "execution_count": 1,
   "metadata": {},
   "outputs": [],
   "source": [
    "from smolagents import LiteLLMModel\n",
    "from IPython.display import Markdown"
   ]
  },
  {
   "cell_type": "code",
   "execution_count": 2,
   "metadata": {},
   "outputs": [],
   "source": [
    "model = LiteLLMModel(\n",
    "    model_id=\"ollama_chat/gemma3:1b\",\n",
    "    api_base=\"http://127.0.0.1:11434\",\n",
    "    num_ctx=8192\n",
    "    )"
   ]
  },
  {
   "cell_type": "code",
   "execution_count": 3,
   "metadata": {},
   "outputs": [
    {
     "data": {
      "text/markdown": [
       "Okay, let's tackle quantum mechanics in a way that’s understandable without diving into complex equations. Here’s a breakdown, aiming for clarity and avoiding jargon as much as possible:\n",
       "\n",
       "**1. The Weirdness Begins – It's About the Very Small**\n",
       "\n",
       "Quantum mechanics deals with the world of atoms and the incredibly tiny particles that make it up – like electrons, photons (light), and quarks.  Here’s where it gets weird:\n",
       "\n",
       "* **Things Aren't Always Where You Think:**  Classical physics (the physics we experience daily) says things have definite positions and speeds. In the quantum world, things don't always have definite properties *until* you look at them.  Think of it like a blurry picture – it's not clear *where* the object is, until you focus on it. \n",
       "\n",
       "* **Quantization – It Comes in Packets:** Energy, for example, isn't continuous (like a ramp). It comes in discrete, \"packets\" – like steps on a staircase, not a smooth ramp. This is called quantization.\n",
       "\n",
       "**2. Key Concepts – Let's Simplify**\n",
       "\n",
       "* **Wave-Particle Duality:**  Particles (like electrons) can sometimes act like waves, and waves (like light) can sometimes act like particles. It’s not *either* a wave *or* a particle, but both simultaneously, depending on how you observe them.  This is one of the most mind-bending ideas.\n",
       "\n",
       "* **Superposition:** Imagine a coin spinning in the air. It’s not heads *or* tails until it lands. A quantum particle can exist in multiple states *at the same time* – it's in a \"superposition\" of all possibilities until measured. Think of it as a probability cloud.\n",
       "\n",
       "* **Entanglement:**  This is probably the most fascinating.  Two particles can become linked in such a way that they share the same fate, *no matter how far apart they are*.  If you measure a property of one particle, you instantly know the corresponding property of the other, even if they're light-years away. It’s like flipping two coins that are linked – even if you flip them separately, you'll always get opposite results. \n",
       "\n",
       "**3. Why Does This Matter?**\n",
       "\n",
       "Quantum mechanics isn’t just about weird science; it's *fundamental* to:\n",
       "\n",
       "* **Modern Technology:**  Lasers, transistors (in computers), MRI machines, and many others rely on quantum principles.\n",
       "* **Understanding the Universe:**  It helps us understand how the universe was created, how stars work, and the fundamental building blocks of matter.\n",
       "\n",
       "**4. It's Not Intuitive – That's Okay!**\n",
       "\n",
       "Quantum mechanics defies our everyday intuition.  It's counterintuitive, and scientists are still trying to fully understand it.  Don’t worry if you don't grasp all the details immediately. It’s a challenging concept!\n",
       "\n",
       "**Analogy:**\n",
       "\n",
       "Think of a music video.  Classical physics is like a still photograph – you see a clear, defined image. Quantum mechanics is like a movie – it’s all about the “magic” and the probabilities that create the illusion of movement and change.\n",
       "\n",
       "\n",
       "**Resources for Further Learning (If you want to dive deeper):**\n",
       "\n",
       "* **YouTube:** Search for \"Quantum Mechanics Explained\" - there are many excellent visuals and explanations.\n",
       "* **Khan Academy:** [https://www.khanacademy.org/science/physics/quantum-mechanics](https://www.khanacademy.org/science/physics/quantum-mechanics)\n",
       "* **Wikipedia:** [https://en.wikipedia.org/wiki/Quantum_mechanics](https://en.wikipedia.org/wiki/Quantum_mechanics)\n",
       "\n",
       "---\n",
       "\n",
       "**To help me tailor this explanation further to your needs, could you tell me:**\n",
       "\n",
       "*   **What is your current understanding of science?** (e.g., high school, general interest, etc.)\n",
       "*   **What specifically are you hoping to understand better?** (e.g., the “weirdness,” the implications for technology, a particular concept like superposition?)"
      ],
      "text/plain": [
       "<IPython.core.display.Markdown object>"
      ]
     },
     "execution_count": 3,
     "metadata": {},
     "output_type": "execute_result"
    }
   ],
   "source": [
    "messages = [{\n",
    "      \"role\": \"user\", \n",
    "      \"content\": \n",
    "      [{\n",
    "          \"type\": \"text\",\n",
    "          \"text\": \"Explain quantum mechanics in simple terms.\"\n",
    "        }]\n",
    "    }]\n",
    "\n",
    "response = model(messages)\n",
    "Markdown(response.content)"
   ]
  },
  {
   "cell_type": "code",
   "execution_count": 6,
   "metadata": {},
   "outputs": [
    {
     "data": {
      "text/markdown": [
       "Why don’t scientists trust atoms? \n",
       "\n",
       "Because they make up everything! 😄 \n",
       "\n",
       "---\n",
       "\n",
       "Do you want to hear another one? 😊"
      ],
      "text/plain": [
       "<IPython.core.display.Markdown object>"
      ]
     },
     "execution_count": 6,
     "metadata": {},
     "output_type": "execute_result"
    }
   ],
   "source": [
    "messages = [{\n",
    "      \"role\": \"user\", \n",
    "      \"content\": \n",
    "      [{\n",
    "          \"type\": \"text\",\n",
    "          \"text\": \"Tell me a joke that you find funny\"\n",
    "        }]\n",
    "    }]\n",
    "\n",
    "response = model(messages)\n",
    "Markdown(response.content)"
   ]
  }
 ],
 "metadata": {
  "kernelspec": {
   "display_name": "textgen",
   "language": "python",
   "name": "python3"
  },
  "language_info": {
   "codemirror_mode": {
    "name": "ipython",
    "version": 3
   },
   "file_extension": ".py",
   "mimetype": "text/x-python",
   "name": "python",
   "nbconvert_exporter": "python",
   "pygments_lexer": "ipython3",
   "version": "3.10.9"
  }
 },
 "nbformat": 4,
 "nbformat_minor": 2
}
